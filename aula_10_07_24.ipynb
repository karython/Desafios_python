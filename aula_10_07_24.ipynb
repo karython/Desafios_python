{
 "cells": [
  {
   "cell_type": "markdown",
   "metadata": {},
   "source": [
    "mariasueli_2010@hotmail.com"
   ]
  },
  {
   "cell_type": "markdown",
   "metadata": {},
   "source": [
    "## Listas\n",
    "\n",
    "- Declarando uma lista\n",
    "- Manipulação de lista\n",
    "    - Adicionando um novo elemento na lista\n",
    "    - Adicionando elemento em uma posição na lista\n",
    "    - Removendo um elemento da lista\n",
    "    - Mostrando segundo, terceiro e quarto elemento da lista\n",
    "    - Mostrando o ultimo elemento da lista\n",
    "    - Ordenando lista\n",
    "    - Pesquisando dados em uma lista (in, index, count)\n",
    "    - Copiando uma lista"
   ]
  },
  {
   "cell_type": "code",
   "execution_count": 27,
   "metadata": {},
   "outputs": [
    {
     "name": "stdout",
     "output_type": "stream",
     "text": [
      "O primeiro nome é gomes\n",
      "joao\n",
      "['gomes', 'oliveira', 'jose', 'pedro', 'maria', 'joao']\n",
      "['gomes', 'oliveira', 'maria', 'joao']\n"
     ]
    }
   ],
   "source": [
    "nomes = ['gomes', 'oliveira', 'lucas', 'jose', 'pedro', 'maria', 'lucas', 'joao']\n",
    "\n",
    "# Retornando elemento da lista atravez do índice\n",
    "print(f'O primeiro nome é {nomes[0]}')\n",
    "\n",
    "# Retornando o ultimo elemento da lista\n",
    "print(nomes[-1])\n",
    "\n",
    "#Removendo item da lista com remove\n",
    "nomes.remove('lucas')\n",
    "\n",
    "\n",
    "# Removendo item da lista com pop\n",
    "nomes.pop(5)\n",
    "print(nomes)\n",
    "\n"
   ]
  },
  {
   "cell_type": "code",
   "execution_count": 31,
   "metadata": {},
   "outputs": [
    {
     "name": "stdout",
     "output_type": "stream",
     "text": [
      "['gomes', 'oliveira', 'lucas', 'jose', 'pedro', 'maria', 'lucas']\n"
     ]
    }
   ],
   "source": [
    "nomes = ['gomes', 'oliveira', 'lucas', 'jose', 'pedro', 'maria', 'lucas', 'joao']\n",
    "\n",
    "# Removendo item usando Del\n",
    "del nomes[2:4]\n",
    "print(nomes)"
   ]
  },
  {
   "cell_type": "code",
   "execution_count": 36,
   "metadata": {},
   "outputs": [
    {
     "name": "stdout",
     "output_type": "stream",
     "text": [
      "['lucas', 'jose', 'pedro']\n"
     ]
    }
   ],
   "source": [
    "nomes = ['gomes', 'oliveira', 'lucas', 'jose', 'pedro', 'maria', 'lucas', 'joao']\n",
    "\n",
    "# Mostrando elementos atraves do intervalo\n",
    "print(nomes[2:5])"
   ]
  },
  {
   "cell_type": "code",
   "execution_count": 38,
   "metadata": {},
   "outputs": [
    {
     "name": "stdout",
     "output_type": "stream",
     "text": [
      "['gomes', 'oliveira', 'lucas', 'jose', 'pedro', 'maria', 'lucas', 'joao', 'Josue']\n"
     ]
    }
   ],
   "source": [
    "nomes = ['gomes', 'oliveira', 'lucas', 'jose', 'pedro', 'maria', 'lucas', 'joao']\n",
    "\n",
    "# Adicionar um novo item a lista\n",
    "nomes.append('Josue')\n",
    "print(nomes)"
   ]
  },
  {
   "cell_type": "code",
   "execution_count": 39,
   "metadata": {},
   "outputs": [
    {
     "name": "stdout",
     "output_type": "stream",
     "text": [
      "['gomes', 'oliveira', 'Josue', 'lucas', 'jose', 'pedro', 'maria', 'lucas', 'joao']\n"
     ]
    }
   ],
   "source": [
    "nomes = ['gomes', 'oliveira', 'lucas', 'jose', 'pedro', 'maria', 'lucas', 'joao']\n",
    "\n",
    "# Adicionar elemento em uma posição específica\n",
    "nomes.insert(2, 'Josue')\n",
    "print(nomes)"
   ]
  },
  {
   "cell_type": "code",
   "execution_count": 45,
   "metadata": {},
   "outputs": [
    {
     "name": "stdout",
     "output_type": "stream",
     "text": [
      "1° nome da lista: gomes\n",
      "2° nome da lista: oliveira\n",
      "3° nome da lista: lucas\n",
      "4° nome da lista: jose\n",
      "5° nome da lista: pedro\n",
      "6° nome da lista: maria\n",
      "7° nome da lista: lucas\n",
      "8° nome da lista: joao\n",
      "\n",
      "============================== Lista atualizada ==============================\n",
      "1° nome da lista: garoto de programa\n",
      "2° nome da lista: gomes\n",
      "3° nome da lista: oliveira\n",
      "4° nome da lista: lucas\n",
      "5° nome da lista: jose\n",
      "6° nome da lista: pedro\n",
      "7° nome da lista: maria\n",
      "8° nome da lista: lucas\n",
      "9° nome da lista: joao\n"
     ]
    }
   ],
   "source": [
    "nomes = ['gomes', 'oliveira', 'lucas', 'jose', 'pedro', 'maria', 'lucas', 'joao']\n",
    "\n",
    "# Imprimindo a lista ignorando o indice 0\n",
    "for i in range(len(nomes)):\n",
    "    print(f'{i + 1}° nome da lista: {nomes[i]}')\n",
    "\n",
    "# Recebendo novo nome para adicionar na lista\n",
    "novo_nome = input(\"Digite um novo nome a ser adicionado na lista: \")\n",
    "\n",
    "# Recebendo uma posição para adicionar na lista\n",
    "posicao = input('Informe a posição desejada para adicionar o novo nome: ')\n",
    "posicao = int(posicao)\n",
    "\n",
    "# Corrigindo a posição dos índices\n",
    "posicao -= 1\n",
    "\n",
    "if posicao >= 0 and posicao <= len(nomes):\n",
    "    nomes.insert(posicao, novo_nome)\n",
    "else:\n",
    "    print('Posição inválida')\n",
    "\n",
    "print()\n",
    "print(30*'=', 'Lista atualizada', 30*'=')\n",
    "for i in range(len(nomes)):\n",
    "    \n",
    "    print(f'{i + 1}° nome da lista: {nomes[i]}')"
   ]
  },
  {
   "cell_type": "code",
   "execution_count": 48,
   "metadata": {},
   "outputs": [
    {
     "name": "stdout",
     "output_type": "stream",
     "text": [
      "['gomes', 'garoto de programa', 'lucas', 'jose', 'pedro', 'maria', 'lucas', 'joao']\n"
     ]
    }
   ],
   "source": [
    "nomes = ['gomes', 'oliveira', 'lucas', 'jose', 'pedro', 'maria', 'lucas', 'joao']\n",
    "\n",
    "# Substituindo um valor na lista atraves do seu índice\n",
    "nomes[1] = 'garoto de programa'\n",
    "print(nomes)"
   ]
  },
  {
   "cell_type": "code",
   "execution_count": 54,
   "metadata": {},
   "outputs": [
    {
     "name": "stdout",
     "output_type": "stream",
     "text": [
      "Lista desordenada: [10, 9, 8, 7, 6, 5, 4, 3, 2, 1]\n",
      "Lista ordenada: [1, 2, 3, 4, 5, 6, 7, 8, 9, 10]\n"
     ]
    }
   ],
   "source": [
    "lista1 = [10,9,8,7,6,5,4,3,2,1]\n",
    "\n",
    "# Lista ordenada Crescente\n",
    "print(f'Lista desordenada: {lista1}')\n",
    "lista1.sort()\n",
    "print(f'Lista ordenada: {lista1}')\n",
    "\n",
    "# Lista ordenada decrescente"
   ]
  },
  {
   "cell_type": "code",
   "execution_count": 58,
   "metadata": {},
   "outputs": [
    {
     "name": "stdout",
     "output_type": "stream",
     "text": [
      "Lista desordenada: [5, 2, 9, 20, 7, 4, 8, 3, 10, 1]\n",
      "Lista ordenada Decrescente: [20, 10, 9, 8, 7, 5, 4, 3, 2, 1]\n"
     ]
    }
   ],
   "source": [
    "lista = [5,2,9,20,7,4,8,3,10,1]\n",
    "\n",
    "# Lista ordenada Descrescente\n",
    "print(f'Lista desordenada: {lista}')\n",
    "lista.sort(reverse=True)\n",
    "print(f'Lista ordenada Decrescente: {lista}')"
   ]
  },
  {
   "cell_type": "markdown",
   "metadata": {},
   "source": [
    "#### Desafio 01\n",
    "- Crie um programa que realiza a contagem de 1 até 100, usando apenas números ímpares, ao final do processo exiba em tela quantos números ímpares foram emcontrados nesse intervalo, assim como a soma dos mesmos:"
   ]
  },
  {
   "cell_type": "code",
   "execution_count": 5,
   "metadata": {},
   "outputs": [
    {
     "name": "stdout",
     "output_type": "stream",
     "text": [
      "1\n",
      "3\n",
      "5\n",
      "7\n",
      "9\n",
      "11\n",
      "13\n",
      "15\n",
      "17\n",
      "19\n",
      "21\n",
      "23\n",
      "25\n",
      "27\n",
      "29\n",
      "31\n",
      "33\n",
      "35\n",
      "37\n",
      "39\n",
      "41\n",
      "43\n",
      "45\n",
      "47\n",
      "49\n",
      "51\n",
      "53\n",
      "55\n",
      "57\n",
      "59\n",
      "61\n",
      "63\n",
      "65\n",
      "67\n",
      "69\n",
      "71\n",
      "73\n",
      "75\n",
      "77\n",
      "79\n",
      "81\n",
      "83\n",
      "85\n",
      "87\n",
      "89\n",
      "91\n",
      "93\n",
      "95\n",
      "97\n",
      "99\n",
      "contagem de numeros inteiros: 50\n",
      "Scoma de todos os numeos inteiros 2500\n"
     ]
    }
   ],
   "source": [
    "cont= 0\n",
    "soma = 0\n",
    "for i in range(1,101):\n",
    "    if i % 2 !=0:\n",
    "        print(i)\n",
    "        cont += 1\n",
    "        soma = i + soma\n",
    "        \n",
    "print(f\"contagem de numeros inteiros: {cont}\")\n",
    "print(f\"Scoma de todos os numeos inteiros {soma}\")\n"
   ]
  },
  {
   "cell_type": "markdown",
   "metadata": {},
   "source": [
    "#### Desafio 02\n",
    "- Crie uma lista de tarefas basica, onde você pode adicionar quantas tarefas você desejar\n",
    "    - Use While\n",
    "    - Use For\n",
    "    - Use if else\n",
    "    - Use os ('cls')"
   ]
  },
  {
   "cell_type": "code",
   "execution_count": 17,
   "metadata": {},
   "outputs": [
    {
     "name": "stdout",
     "output_type": "stream",
     "text": [
      "Tarefa adicionada\n",
      "1 Lista de tarefas: limpar\n"
     ]
    }
   ],
   "source": [
    "import os\n",
    "tarefa = []\n",
    "while True:\n",
    "    add = input(\"Deseja adicionar uma  nova tarefa?(S/N)\").upper()\n",
    "    if add == \"S\":\n",
    "        adicional = input(\"Digite a nova tarefa: \")\n",
    "        tarefa.append(adicional)\n",
    "        print(\"Tarefa adicionada\")\n",
    "    else:\n",
    "        break\n",
    "os.system(\"cls\")\n",
    "for i in range (len(tarefa)):\n",
    "    print(f\"{i+1} Lista de tarefas: {tarefa[i]}\")"
   ]
  },
  {
   "cell_type": "markdown",
   "metadata": {},
   "source": [
    "#### Desafio 03\n",
    "- Crie um programa que pede o usuario que o mesmo digite um número qualquer, em seguida retorne se esse número é primo ou não, caso não seja, retorne tambem a quantas vezes esse número é divisível:\n",
    "\n",
    "Número primo é aquele que apenas é divisível por 1 ou por ele mesmo, temos de criar essa condição lógica para poder solucionar esse exercício."
   ]
  },
  {
   "cell_type": "code",
   "execution_count": 41,
   "metadata": {},
   "outputs": [
    {
     "name": "stdout",
     "output_type": "stream",
     "text": [
      "O numero não é primo pois é divisivel por  [1, 2, 7, 14, 49, 98]\n"
     ]
    }
   ],
   "source": [
    "num = int(input (\"Digite um numero inteiro para saber se é primo: \"))\n",
    "cont = 0\n",
    "div = []\n",
    "\n",
    "for i in range(num):\n",
    "    if num%(i+1) == 0:\n",
    "        cont += 1\n",
    "        div.append(i+1)\n",
    "    else:\n",
    "        cont\n",
    "if cont == 2:\n",
    "    print (\"O numero é primo divisivel por \",div)\n",
    "else:\n",
    "    print (\"O numero não é primo pois é divisivel por \",div)\n"
   ]
  }
 ],
 "metadata": {
  "kernelspec": {
   "display_name": "venv",
   "language": "python",
   "name": "python3"
  },
  "language_info": {
   "codemirror_mode": {
    "name": "ipython",
    "version": 3
   },
   "file_extension": ".py",
   "mimetype": "text/x-python",
   "name": "python",
   "nbconvert_exporter": "python",
   "pygments_lexer": "ipython3",
   "version": "3.12.4"
  }
 },
 "nbformat": 4,
 "nbformat_minor": 2
}
