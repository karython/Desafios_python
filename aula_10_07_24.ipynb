{
 "cells": [
  {
   "cell_type": "markdown",
   "metadata": {},
   "source": [
    "## Listas\n",
    "\n",
    "- Declarando uma lista\n",
    "- Manipulação de lista\n",
    "    - Adicionando um novo elemento na lista\n",
    "    - Adicionando elemento em uma posição na lista\n",
    "    - Removendo um elemento da lista\n",
    "    - Mostrando segundo, terceiro e quarto elemento da lista\n",
    "    - Mostrando o ultimo elemento da lista\n",
    "    - Ordenando lista\n",
    "    - Pesquisando dados em uma lista (in, index, count)\n",
    "    - Copiando uma lista"
   ]
  },
  {
   "cell_type": "code",
   "execution_count": 7,
   "metadata": {},
   "outputs": [
    {
     "name": "stdout",
     "output_type": "stream",
     "text": [
      "O primeiro, segundo e terceiro nome é gomes\n"
     ]
    }
   ],
   "source": [
    "nomes = ['gomes', 'oliveira', 'lucas', 'jose', 'pedro', 'maria', 'lucas', 'joao']\n",
    "\n",
    "# Retornando elemento da lista atravez do índice\n",
    "print(f'O primeiro, segundo e terceiro nome é {nomes[0]}')"
   ]
  },
  {
   "cell_type": "code",
   "execution_count": 27,
   "metadata": {},
   "outputs": [
    {
     "name": "stdout",
     "output_type": "stream",
     "text": [
      "O primeiro nome é gomes\n",
      "joao\n",
      "['gomes', 'oliveira', 'jose', 'pedro', 'maria', 'joao']\n",
      "['gomes', 'oliveira', 'maria', 'joao']\n"
     ]
    }
   ],
   "source": [
    "nomes = ['gomes', 'oliveira', 'lucas', 'jose', 'pedro', 'maria', 'lucas', 'joao']\n",
    "\n",
    "\n",
    "# Retornando o ultimo elemento da lista\n",
    "print(nomes[-1])\n",
    "\n"
   ]
  },
  {
   "cell_type": "code",
   "execution_count": 8,
   "metadata": {},
   "outputs": [
    {
     "name": "stdout",
     "output_type": "stream",
     "text": [
      "['gomes', 'oliveira', 'jose', 'pedro', 'maria', 'lucas', 'joao']\n"
     ]
    }
   ],
   "source": [
    "nomes = ['gomes', 'oliveira', 'lucas', 'jose', 'pedro', 'maria', 'lucas', 'joao']\n",
    "\n",
    "#Removendo item da lista com remove\n",
    "nomes.remove('lucas')\n",
    "print(nomes)"
   ]
  },
  {
   "cell_type": "code",
   "execution_count": 9,
   "metadata": {},
   "outputs": [
    {
     "name": "stdout",
     "output_type": "stream",
     "text": [
      "['gomes', 'oliveira', 'lucas', 'jose', 'pedro', 'lucas', 'joao']\n"
     ]
    }
   ],
   "source": [
    "nomes = ['gomes', 'oliveira', 'lucas', 'jose', 'pedro', 'maria', 'lucas', 'joao']\n",
    "\n",
    "# Removendo item da lista com pop\n",
    "nomes.pop(5)\n",
    "print(nomes)"
   ]
  },
  {
   "cell_type": "code",
   "execution_count": 14,
   "metadata": {},
   "outputs": [
    {
     "name": "stdout",
     "output_type": "stream",
     "text": [
      "['maria', 'lucas', 'joao']\n"
     ]
    }
   ],
   "source": [
    "nomes = ['gomes', 'oliveira', 'lucas', 'jose', 'pedro', 'maria', 'lucas', 'joao']\n",
    "\n",
    "# Removendo item usando Del\n",
    "del nomes[:5]\n",
    "print(nomes)"
   ]
  },
  {
   "cell_type": "code",
   "execution_count": 15,
   "metadata": {},
   "outputs": [
    {
     "name": "stdout",
     "output_type": "stream",
     "text": [
      "['lucas', 'jose', 'pedro']\n"
     ]
    }
   ],
   "source": [
    "nomes = ['gomes', 'oliveira', 'lucas', 'jose', 'pedro', 'maria', 'lucas', 'joao']\n",
    "\n",
    "# Mostrando elementos atraves do intervalo\n",
    "print(nomes[2:5])"
   ]
  },
  {
   "cell_type": "code",
   "execution_count": 16,
   "metadata": {},
   "outputs": [
    {
     "name": "stdout",
     "output_type": "stream",
     "text": [
      "['gomes', 'oliveira', 'lucas', 'jose', 'pedro', 'maria', 'lucas', 'joao', 'Josue']\n"
     ]
    }
   ],
   "source": [
    "nomes = ['gomes', 'oliveira', 'lucas', 'jose', 'pedro', 'maria', 'lucas', 'joao']\n",
    "\n",
    "# Adicionar um novo item a lista\n",
    "nomes.append('Josue')\n",
    "print(nomes)"
   ]
  },
  {
   "cell_type": "code",
   "execution_count": 19,
   "metadata": {},
   "outputs": [
    {
     "name": "stdout",
     "output_type": "stream",
     "text": [
      "['gomes', 'oliveira', 'lucas', 'jose', 'pedro', 'maria', 'lucas', 'joao']\n",
      "['gomes', 'oliveira', 'lucas', 'jose', 'pedro', 'Josue', 'maria', 'lucas', 'joao']\n"
     ]
    }
   ],
   "source": [
    "nomes = ['gomes', 'oliveira', 'lucas', 'jose', 'pedro', 'maria', 'lucas', 'joao']\n",
    "\n",
    "# Adicionar elemento em uma posição específica\n",
    "print(nomes)\n",
    "nomes.insert(5, 'Josue')\n",
    "print(nomes)"
   ]
  },
  {
   "cell_type": "code",
   "execution_count": 45,
   "metadata": {},
   "outputs": [
    {
     "name": "stdout",
     "output_type": "stream",
     "text": [
      "1° nome da lista: gomes\n",
      "2° nome da lista: oliveira\n",
      "3° nome da lista: lucas\n",
      "4° nome da lista: jose\n",
      "5° nome da lista: pedro\n",
      "6° nome da lista: maria\n",
      "7° nome da lista: lucas\n",
      "8° nome da lista: joao\n",
      "\n",
      "============================== Lista atualizada ==============================\n",
      "1° nome da lista: garoto de programa\n",
      "2° nome da lista: gomes\n",
      "3° nome da lista: oliveira\n",
      "4° nome da lista: lucas\n",
      "5° nome da lista: jose\n",
      "6° nome da lista: pedro\n",
      "7° nome da lista: maria\n",
      "8° nome da lista: lucas\n",
      "9° nome da lista: joao\n"
     ]
    }
   ],
   "source": [
    "nomes = ['gomes', 'oliveira', 'lucas', 'jose', 'pedro', 'maria', 'lucas', 'joao']\n",
    "\n",
    "# Imprimindo a lista ignorando o indice 0\n",
    "for i in range(len(nomes)):\n",
    "    print(f'{i + 1}° nome da lista: {nomes[i]}')\n",
    "\n",
    "# Recebendo novo nome para adicionar na lista\n",
    "novo_nome = input(\"Digite um novo nome a ser adicionado na lista: \")\n",
    "\n",
    "# Recebendo uma posição para adicionar na lista\n",
    "posicao = input('Informe a posição desejada para adicionar o novo nome: ')\n",
    "posicao = int(posicao)\n",
    "\n",
    "# Corrigindo a posição dos índices\n",
    "posicao -= 1\n",
    "\n",
    "if posicao >= 0 and posicao <= len(nomes):\n",
    "    nomes.insert(posicao, novo_nome)\n",
    "else:\n",
    "    print('Posição inválida')\n",
    "\n",
    "print()\n",
    "print(30*'=', 'Lista atualizada', 30*'=')\n",
    "for i in range(len(nomes)):\n",
    "    \n",
    "    print(f'{i + 1}° nome da lista: {nomes[i]}')"
   ]
  },
  {
   "cell_type": "code",
   "execution_count": 21,
   "metadata": {},
   "outputs": [
    {
     "name": "stdout",
     "output_type": "stream",
     "text": [
      "['gomes', 'oliveira', 'lucas', 'jose', 'pedro', 'garoto de programa', 'lucas', 'joao']\n"
     ]
    }
   ],
   "source": [
    "nomes = ['gomes', 'oliveira', 'lucas', 'jose', 'pedro', 'maria', 'lucas', 'joao']\n",
    "\n",
    "# Substituindo um valor na lista atraves do seu índice\n",
    "nomes[5] = 'garoto de programa'\n",
    "print(nomes)"
   ]
  },
  {
   "cell_type": "code",
   "execution_count": 54,
   "metadata": {},
   "outputs": [
    {
     "name": "stdout",
     "output_type": "stream",
     "text": [
      "Lista desordenada: [10, 9, 8, 7, 6, 5, 4, 3, 2, 1]\n",
      "Lista ordenada: [1, 2, 3, 4, 5, 6, 7, 8, 9, 10]\n"
     ]
    }
   ],
   "source": [
    "lista1 = [10,9,8,7,6,5,4,3,2,1]\n",
    "\n",
    "# Lista ordenada Crescente\n",
    "print(f'Lista desordenada: {lista1}')\n",
    "lista1.sort()\n",
    "print(f'Lista ordenada: {lista1}')\n",
    "\n",
    "# Lista ordenada decrescente"
   ]
  },
  {
   "cell_type": "code",
   "execution_count": 58,
   "metadata": {},
   "outputs": [
    {
     "name": "stdout",
     "output_type": "stream",
     "text": [
      "Lista desordenada: [5, 2, 9, 20, 7, 4, 8, 3, 10, 1]\n",
      "Lista ordenada Decrescente: [20, 10, 9, 8, 7, 5, 4, 3, 2, 1]\n"
     ]
    }
   ],
   "source": [
    "lista = [5,2,9,20,7,4,8,3,10,1]\n",
    "\n",
    "# Lista ordenada Descrescente\n",
    "print(f'Lista desordenada: {lista}')\n",
    "lista.sort(reverse=True)\n",
    "print(f'Lista ordenada Decrescente: {lista}')"
   ]
  },
  {
   "cell_type": "markdown",
   "metadata": {},
   "source": [
    "#### Desafio 01\n",
    "- Crie um programa que realiza a contagem de 1 até 100, usando apenas números ímpares, ao final do processo exiba em tela quantos números ímpares foram emcontrados nesse intervalo, assim como a soma dos mesmos:"
   ]
  },
  {
   "cell_type": "code",
   "execution_count": 3,
   "metadata": {},
   "outputs": [
    {
     "name": "stdout",
     "output_type": "stream",
     "text": [
      "1\n",
      "2\n",
      "3\n",
      "4\n",
      "5\n",
      "6\n",
      "7\n",
      "8\n",
      "9\n",
      "10\n",
      "11\n",
      "12\n",
      "13\n",
      "14\n",
      "15\n",
      "16\n",
      "17\n",
      "18\n",
      "19\n",
      "20\n",
      "21\n",
      "22\n",
      "23\n",
      "24\n",
      "25\n",
      "26\n",
      "27\n",
      "28\n",
      "29\n",
      "30\n",
      "31\n",
      "32\n",
      "33\n",
      "34\n",
      "35\n",
      "36\n",
      "37\n",
      "38\n",
      "39\n",
      "40\n",
      "41\n",
      "42\n",
      "43\n",
      "44\n",
      "45\n",
      "46\n",
      "47\n",
      "48\n",
      "49\n",
      "50\n",
      "51\n",
      "52\n",
      "53\n",
      "54\n",
      "55\n",
      "56\n",
      "57\n",
      "58\n",
      "59\n",
      "60\n",
      "61\n",
      "62\n",
      "63\n",
      "64\n",
      "65\n",
      "66\n",
      "67\n",
      "68\n",
      "69\n",
      "70\n",
      "71\n",
      "72\n",
      "73\n",
      "74\n",
      "75\n",
      "76\n",
      "77\n",
      "78\n",
      "79\n",
      "80\n",
      "81\n",
      "82\n",
      "83\n",
      "84\n",
      "85\n",
      "86\n",
      "87\n",
      "88\n",
      "89\n",
      "90\n",
      "91\n",
      "92\n",
      "93\n",
      "94\n",
      "95\n",
      "96\n",
      "97\n",
      "98\n",
      "99\n",
      "100\n"
     ]
    }
   ],
   "source": [
    "# TODO: Resposta do desafio 01\n",
    "\n",
    "lista1 = [1,100]\n",
    "# o  loop for, percorre listas\n",
    "for i in range (1,101):\n",
    "# a variável i no loop for, é uma variável que só funciona dentro do loop for\n",
    "    if i % 2! = 0:\n",
    "    if soma = = 1\n",
    "       contador + =1\n",
    "print( f' foi encontrado { contador} numeros impares')\n",
    "print(f' A soma c;{soma}')\n",
    "\n",
    "\n",
    "\n"
   ]
  },
  {
   "cell_type": "markdown",
   "metadata": {},
   "source": [
    "#### Desafio 02\n",
    "- Crie uma lista de tarefas basica, onde você pode adicionar quantas tarefas você desejar\n",
    "    - Use While\n",
    "    - Use For\n",
    "    - Use if else\n",
    "    - Use os ('cls')"
   ]
  },
  {
   "cell_type": "code",
   "execution_count": null,
   "metadata": {},
   "outputs": [],
   "source": [
    "# TODO: Resposta do desafio 02\n",
    "\n",
    "if posicao >= 0 and posicao <= len(nomes):\n",
    "    nomes.insert(posicao, novo_nome)\n",
    "else:\n",
    "    print('Posição inválida')\n",
    "while cont >= 0:\n",
    "os.system('cls')\n",
    "\n",
    "tarefa=[]\n",
    "while True\n",
    "      add=input ('Deseja adicionar uma nova tarefa?)(s/n)').upper c)\n",
    "      if add== 's'!\n",
    "        adicional = input ('digite a nova tarefa')\n",
    "        tarefa.append (adicional)\n",
    "        print('tarefa adicionada')\n",
    "    else:\n",
    "    breakos,sustem(\"cls\")\n",
    "    for i in ranger ( len(tarefa)):\n",
    "          print(f'{1+1}lista de tarefas:{tarefas}[1]}')\n",
    "          tarefa adicionada\n",
    "  "
   ]
  },
  {
   "cell_type": "markdown",
   "metadata": {},
   "source": [
    "#### Desafio 03\n",
    "- Crie um programa que pede o usuario que o mesmo digite um número qualquer, em seguida retorne se esse número é primo ou não, caso não seja, retorne tambem a quantas vezes esse número é divisível:\n",
    "\n",
    "Número primo é aquele que apenas é divisível por 1 ou por ele mesmo, temos de criar essa condição lógica para poder solucionar esse exercício."
   ]
  },
  {
   "cell_type": "code",
   "execution_count": 64,
   "metadata": {},
   "outputs": [
    {
     "name": "stdout",
     "output_type": "stream",
     "text": [
      "98 não é primo!\n",
      "98 é divisível 6 vezes...\n"
     ]
    }
   ],
   "source": [
    "# TODO: Resposta do desafio 03\n",
    "\n",
    "OK PRECISO DE UMA VARIAVEL PARA ARMANAZENAR O NUMERO \n",
    "\n",
    "   numero= int (input('Digite um numero inteiro;'))\n",
    "divisão =0\n",
    "\n",
    "numero= int(input(\"Digite um numero inteiro\":))\n",
    "divisão =0\n",
    " for i in range(1,numero+1):\n",
    "  if numero% i==1:\n",
    "    divisões +=1\n",
    "    if divisoes= 2:\n",
    "        print(f'{numero}é primo!')\n",
    "        print(f'{numero}') é divisivel por 1ou por{numero}')\n",
    "   else:\n",
    "        print(f'{numero}nao e primo!')\n",
    "        print(f'{numero}é divisivel {divisoes} vezes...')\n",
    "\n",
    "        print(1)\n",
    "\n",
    "        s é primo!\n",
    "        s é divisivel por 1 ou por 5\n",
    "              \n",
    "\n",
    "\n"
   ]
  }
 ],
 "metadata": {
  "kernelspec": {
   "display_name": "venv",
   "language": "python",
   "name": "python3"
  },
  "language_info": {
   "codemirror_mode": {
    "name": "ipython",
    "version": 3
   },
   "file_extension": ".py",
   "mimetype": "text/x-python",
   "name": "python",
   "nbconvert_exporter": "python",
   "pygments_lexer": "ipython3",
   "version": "3.12.4"
  }
 },
 "nbformat": 4,
 "nbformat_minor": 2
}
